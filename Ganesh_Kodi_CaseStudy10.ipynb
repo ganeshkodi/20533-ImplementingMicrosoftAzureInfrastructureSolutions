{
  "nbformat": 4,
  "nbformat_minor": 0,
  "metadata": {
    "kernelspec": {
      "display_name": "Python 3",
      "language": "python",
      "name": "python3"
    },
    "language_info": {
      "codemirror_mode": {
        "name": "ipython",
        "version": 3
      },
      "file_extension": ".py",
      "mimetype": "text/x-python",
      "name": "python",
      "nbconvert_exporter": "python",
      "pygments_lexer": "ipython3",
      "version": "3.6.2"
    },
    "colab": {
      "name": "Ganesh_Kodi_CaseStudy10.ipynb",
      "provenance": [],
      "include_colab_link": true
    }
  },
  "cells": [
    {
      "cell_type": "markdown",
      "metadata": {
        "id": "view-in-github",
        "colab_type": "text"
      },
      "source": [
        "<a href=\"https://colab.research.google.com/github/ganeshkodi/20533-ImplementingMicrosoftAzureInfrastructureSolutions/blob/master/Ganesh_Kodi_CaseStudy10.ipynb\" target=\"_parent\"><img src=\"https://colab.research.google.com/assets/colab-badge.svg\" alt=\"Open In Colab\"/></a>"
      ]
    },
    {
      "cell_type": "markdown",
      "metadata": {
        "id": "3g-K_J5fWPmk",
        "colab_type": "text"
      },
      "source": [
        "# Working with Missing Data\n",
        "\n",
        "**Utilizing the Boston Housing dataset**"
      ]
    },
    {
      "cell_type": "code",
      "metadata": {
        "id": "jbG_2DwHfoGU",
        "colab_type": "code",
        "outputId": "84ade359-88ea-4b24-84e5-cb8ad7dd7649",
        "colab": {
          "base_uri": "https://localhost:8080/",
          "height": 119
        }
      },
      "source": [
        "!pip install ml_metrics"
      ],
      "execution_count": 67,
      "outputs": [
        {
          "output_type": "stream",
          "text": [
            "Requirement already satisfied: ml_metrics in /usr/local/lib/python3.6/dist-packages (0.1.4)\n",
            "Requirement already satisfied: pandas in /usr/local/lib/python3.6/dist-packages (from ml_metrics) (0.25.2)\n",
            "Requirement already satisfied: numpy in /usr/local/lib/python3.6/dist-packages (from ml_metrics) (1.17.3)\n",
            "Requirement already satisfied: pytz>=2017.2 in /usr/local/lib/python3.6/dist-packages (from pandas->ml_metrics) (2018.9)\n",
            "Requirement already satisfied: python-dateutil>=2.6.1 in /usr/local/lib/python3.6/dist-packages (from pandas->ml_metrics) (2.6.1)\n",
            "Requirement already satisfied: six>=1.5 in /usr/local/lib/python3.6/dist-packages (from python-dateutil>=2.6.1->pandas->ml_metrics) (1.12.0)\n"
          ],
          "name": "stdout"
        }
      ]
    },
    {
      "cell_type": "code",
      "metadata": {
        "id": "KA_xTIfiWPmo",
        "colab_type": "code",
        "colab": {}
      },
      "source": [
        "# Import package dependencies\n",
        "import pandas as pd\n",
        "import numpy as np\n",
        "from sklearn.linear_model import LinearRegression\n",
        "from sklearn.metrics import mean_squared_error, r2_score, mean_absolute_error\n",
        "from ml_metrics import rmse\n",
        "import matplotlib.pyplot as plt\n",
        "from sklearn.datasets import load_boston"
      ],
      "execution_count": 0,
      "outputs": []
    },
    {
      "cell_type": "code",
      "metadata": {
        "id": "xPF2LztCWPmr",
        "colab_type": "code",
        "outputId": "d152618f-a5e2-4381-dcc6-0f0e9329abe8",
        "colab": {
          "base_uri": "https://localhost:8080/",
          "height": 34
        }
      },
      "source": [
        "# Load in the dataset\n",
        "boston = load_boston()\n",
        "print(boston.data.shape)"
      ],
      "execution_count": 69,
      "outputs": [
        {
          "output_type": "stream",
          "text": [
            "(506, 13)\n"
          ],
          "name": "stdout"
        }
      ]
    },
    {
      "cell_type": "code",
      "metadata": {
        "id": "zYGx4XylWPmw",
        "colab_type": "code",
        "outputId": "68a22f76-4a06-470b-acaf-c9627a8080c6",
        "colab": {
          "base_uri": "https://localhost:8080/",
          "height": 34
        }
      },
      "source": [
        "print(boston.keys())"
      ],
      "execution_count": 70,
      "outputs": [
        {
          "output_type": "stream",
          "text": [
            "dict_keys(['data', 'target', 'feature_names', 'DESCR', 'filename'])\n"
          ],
          "name": "stdout"
        }
      ]
    },
    {
      "cell_type": "code",
      "metadata": {
        "id": "_M3Ix9R9WPmy",
        "colab_type": "code",
        "outputId": "ed7cb181-d270-4b2d-9f5a-854fa070563e",
        "colab": {
          "base_uri": "https://localhost:8080/",
          "height": 904
        }
      },
      "source": [
        "# View the data descriptions\n",
        "print(boston.DESCR)"
      ],
      "execution_count": 71,
      "outputs": [
        {
          "output_type": "stream",
          "text": [
            ".. _boston_dataset:\n",
            "\n",
            "Boston house prices dataset\n",
            "---------------------------\n",
            "\n",
            "**Data Set Characteristics:**  \n",
            "\n",
            "    :Number of Instances: 506 \n",
            "\n",
            "    :Number of Attributes: 13 numeric/categorical predictive. Median Value (attribute 14) is usually the target.\n",
            "\n",
            "    :Attribute Information (in order):\n",
            "        - CRIM     per capita crime rate by town\n",
            "        - ZN       proportion of residential land zoned for lots over 25,000 sq.ft.\n",
            "        - INDUS    proportion of non-retail business acres per town\n",
            "        - CHAS     Charles River dummy variable (= 1 if tract bounds river; 0 otherwise)\n",
            "        - NOX      nitric oxides concentration (parts per 10 million)\n",
            "        - RM       average number of rooms per dwelling\n",
            "        - AGE      proportion of owner-occupied units built prior to 1940\n",
            "        - DIS      weighted distances to five Boston employment centres\n",
            "        - RAD      index of accessibility to radial highways\n",
            "        - TAX      full-value property-tax rate per $10,000\n",
            "        - PTRATIO  pupil-teacher ratio by town\n",
            "        - B        1000(Bk - 0.63)^2 where Bk is the proportion of blacks by town\n",
            "        - LSTAT    % lower status of the population\n",
            "        - MEDV     Median value of owner-occupied homes in $1000's\n",
            "\n",
            "    :Missing Attribute Values: None\n",
            "\n",
            "    :Creator: Harrison, D. and Rubinfeld, D.L.\n",
            "\n",
            "This is a copy of UCI ML housing dataset.\n",
            "https://archive.ics.uci.edu/ml/machine-learning-databases/housing/\n",
            "\n",
            "\n",
            "This dataset was taken from the StatLib library which is maintained at Carnegie Mellon University.\n",
            "\n",
            "The Boston house-price data of Harrison, D. and Rubinfeld, D.L. 'Hedonic\n",
            "prices and the demand for clean air', J. Environ. Economics & Management,\n",
            "vol.5, 81-102, 1978.   Used in Belsley, Kuh & Welsch, 'Regression diagnostics\n",
            "...', Wiley, 1980.   N.B. Various transformations are used in the table on\n",
            "pages 244-261 of the latter.\n",
            "\n",
            "The Boston house-price data has been used in many machine learning papers that address regression\n",
            "problems.   \n",
            "     \n",
            ".. topic:: References\n",
            "\n",
            "   - Belsley, Kuh & Welsch, 'Regression diagnostics: Identifying Influential Data and Sources of Collinearity', Wiley, 1980. 244-261.\n",
            "   - Quinlan,R. (1993). Combining Instance-Based and Model-Based Learning. In Proceedings on the Tenth International Conference of Machine Learning, 236-243, University of Massachusetts, Amherst. Morgan Kaufmann.\n",
            "\n"
          ],
          "name": "stdout"
        }
      ]
    },
    {
      "cell_type": "code",
      "metadata": {
        "id": "K67MNM8kWPm1",
        "colab_type": "code",
        "outputId": "f3573f4a-1383-4862-fb23-4c4beee81e0b",
        "colab": {
          "base_uri": "https://localhost:8080/",
          "height": 51
        }
      },
      "source": [
        "boston.feature_names"
      ],
      "execution_count": 72,
      "outputs": [
        {
          "output_type": "execute_result",
          "data": {
            "text/plain": [
              "array(['CRIM', 'ZN', 'INDUS', 'CHAS', 'NOX', 'RM', 'AGE', 'DIS', 'RAD',\n",
              "       'TAX', 'PTRATIO', 'B', 'LSTAT'], dtype='<U7')"
            ]
          },
          "metadata": {
            "tags": []
          },
          "execution_count": 72
        }
      ]
    },
    {
      "cell_type": "code",
      "metadata": {
        "id": "fZIFnMT4WPm7",
        "colab_type": "code",
        "outputId": "7037fa86-9d99-452f-9a11-e7b9a7b4b11b",
        "colab": {
          "base_uri": "https://localhost:8080/",
          "height": 204
        }
      },
      "source": [
        "# Convert the matrix to pandas\n",
        "bos = pd.DataFrame(boston.data)\n",
        "bos.columns = boston.feature_names\n",
        "bos['MEDV'] = boston.target\n",
        "bos.head()"
      ],
      "execution_count": 73,
      "outputs": [
        {
          "output_type": "execute_result",
          "data": {
            "text/html": [
              "<div>\n",
              "<style scoped>\n",
              "    .dataframe tbody tr th:only-of-type {\n",
              "        vertical-align: middle;\n",
              "    }\n",
              "\n",
              "    .dataframe tbody tr th {\n",
              "        vertical-align: top;\n",
              "    }\n",
              "\n",
              "    .dataframe thead th {\n",
              "        text-align: right;\n",
              "    }\n",
              "</style>\n",
              "<table border=\"1\" class=\"dataframe\">\n",
              "  <thead>\n",
              "    <tr style=\"text-align: right;\">\n",
              "      <th></th>\n",
              "      <th>CRIM</th>\n",
              "      <th>ZN</th>\n",
              "      <th>INDUS</th>\n",
              "      <th>CHAS</th>\n",
              "      <th>NOX</th>\n",
              "      <th>RM</th>\n",
              "      <th>AGE</th>\n",
              "      <th>DIS</th>\n",
              "      <th>RAD</th>\n",
              "      <th>TAX</th>\n",
              "      <th>PTRATIO</th>\n",
              "      <th>B</th>\n",
              "      <th>LSTAT</th>\n",
              "      <th>MEDV</th>\n",
              "    </tr>\n",
              "  </thead>\n",
              "  <tbody>\n",
              "    <tr>\n",
              "      <th>0</th>\n",
              "      <td>0.00632</td>\n",
              "      <td>18.0</td>\n",
              "      <td>2.31</td>\n",
              "      <td>0.0</td>\n",
              "      <td>0.538</td>\n",
              "      <td>6.575</td>\n",
              "      <td>65.2</td>\n",
              "      <td>4.0900</td>\n",
              "      <td>1.0</td>\n",
              "      <td>296.0</td>\n",
              "      <td>15.3</td>\n",
              "      <td>396.90</td>\n",
              "      <td>4.98</td>\n",
              "      <td>24.0</td>\n",
              "    </tr>\n",
              "    <tr>\n",
              "      <th>1</th>\n",
              "      <td>0.02731</td>\n",
              "      <td>0.0</td>\n",
              "      <td>7.07</td>\n",
              "      <td>0.0</td>\n",
              "      <td>0.469</td>\n",
              "      <td>6.421</td>\n",
              "      <td>78.9</td>\n",
              "      <td>4.9671</td>\n",
              "      <td>2.0</td>\n",
              "      <td>242.0</td>\n",
              "      <td>17.8</td>\n",
              "      <td>396.90</td>\n",
              "      <td>9.14</td>\n",
              "      <td>21.6</td>\n",
              "    </tr>\n",
              "    <tr>\n",
              "      <th>2</th>\n",
              "      <td>0.02729</td>\n",
              "      <td>0.0</td>\n",
              "      <td>7.07</td>\n",
              "      <td>0.0</td>\n",
              "      <td>0.469</td>\n",
              "      <td>7.185</td>\n",
              "      <td>61.1</td>\n",
              "      <td>4.9671</td>\n",
              "      <td>2.0</td>\n",
              "      <td>242.0</td>\n",
              "      <td>17.8</td>\n",
              "      <td>392.83</td>\n",
              "      <td>4.03</td>\n",
              "      <td>34.7</td>\n",
              "    </tr>\n",
              "    <tr>\n",
              "      <th>3</th>\n",
              "      <td>0.03237</td>\n",
              "      <td>0.0</td>\n",
              "      <td>2.18</td>\n",
              "      <td>0.0</td>\n",
              "      <td>0.458</td>\n",
              "      <td>6.998</td>\n",
              "      <td>45.8</td>\n",
              "      <td>6.0622</td>\n",
              "      <td>3.0</td>\n",
              "      <td>222.0</td>\n",
              "      <td>18.7</td>\n",
              "      <td>394.63</td>\n",
              "      <td>2.94</td>\n",
              "      <td>33.4</td>\n",
              "    </tr>\n",
              "    <tr>\n",
              "      <th>4</th>\n",
              "      <td>0.06905</td>\n",
              "      <td>0.0</td>\n",
              "      <td>2.18</td>\n",
              "      <td>0.0</td>\n",
              "      <td>0.458</td>\n",
              "      <td>7.147</td>\n",
              "      <td>54.2</td>\n",
              "      <td>6.0622</td>\n",
              "      <td>3.0</td>\n",
              "      <td>222.0</td>\n",
              "      <td>18.7</td>\n",
              "      <td>396.90</td>\n",
              "      <td>5.33</td>\n",
              "      <td>36.2</td>\n",
              "    </tr>\n",
              "  </tbody>\n",
              "</table>\n",
              "</div>"
            ],
            "text/plain": [
              "      CRIM    ZN  INDUS  CHAS    NOX  ...    TAX  PTRATIO       B  LSTAT  MEDV\n",
              "0  0.00632  18.0   2.31   0.0  0.538  ...  296.0     15.3  396.90   4.98  24.0\n",
              "1  0.02731   0.0   7.07   0.0  0.469  ...  242.0     17.8  396.90   9.14  21.6\n",
              "2  0.02729   0.0   7.07   0.0  0.469  ...  242.0     17.8  392.83   4.03  34.7\n",
              "3  0.03237   0.0   2.18   0.0  0.458  ...  222.0     18.7  394.63   2.94  33.4\n",
              "4  0.06905   0.0   2.18   0.0  0.458  ...  222.0     18.7  396.90   5.33  36.2\n",
              "\n",
              "[5 rows x 14 columns]"
            ]
          },
          "metadata": {
            "tags": []
          },
          "execution_count": 73
        }
      ]
    },
    {
      "cell_type": "code",
      "metadata": {
        "id": "ahrJ3gEnWPm-",
        "colab_type": "code",
        "outputId": "70e8c848-d5cf-4422-d644-e0d3407641f4",
        "colab": {
          "base_uri": "https://localhost:8080/",
          "height": 317
        }
      },
      "source": [
        "bos.describe()"
      ],
      "execution_count": 74,
      "outputs": [
        {
          "output_type": "execute_result",
          "data": {
            "text/html": [
              "<div>\n",
              "<style scoped>\n",
              "    .dataframe tbody tr th:only-of-type {\n",
              "        vertical-align: middle;\n",
              "    }\n",
              "\n",
              "    .dataframe tbody tr th {\n",
              "        vertical-align: top;\n",
              "    }\n",
              "\n",
              "    .dataframe thead th {\n",
              "        text-align: right;\n",
              "    }\n",
              "</style>\n",
              "<table border=\"1\" class=\"dataframe\">\n",
              "  <thead>\n",
              "    <tr style=\"text-align: right;\">\n",
              "      <th></th>\n",
              "      <th>CRIM</th>\n",
              "      <th>ZN</th>\n",
              "      <th>INDUS</th>\n",
              "      <th>CHAS</th>\n",
              "      <th>NOX</th>\n",
              "      <th>RM</th>\n",
              "      <th>AGE</th>\n",
              "      <th>DIS</th>\n",
              "      <th>RAD</th>\n",
              "      <th>TAX</th>\n",
              "      <th>PTRATIO</th>\n",
              "      <th>B</th>\n",
              "      <th>LSTAT</th>\n",
              "      <th>MEDV</th>\n",
              "    </tr>\n",
              "  </thead>\n",
              "  <tbody>\n",
              "    <tr>\n",
              "      <th>count</th>\n",
              "      <td>506.000000</td>\n",
              "      <td>506.000000</td>\n",
              "      <td>506.000000</td>\n",
              "      <td>506.000000</td>\n",
              "      <td>506.000000</td>\n",
              "      <td>506.000000</td>\n",
              "      <td>506.000000</td>\n",
              "      <td>506.000000</td>\n",
              "      <td>506.000000</td>\n",
              "      <td>506.000000</td>\n",
              "      <td>506.000000</td>\n",
              "      <td>506.000000</td>\n",
              "      <td>506.000000</td>\n",
              "      <td>506.000000</td>\n",
              "    </tr>\n",
              "    <tr>\n",
              "      <th>mean</th>\n",
              "      <td>3.613524</td>\n",
              "      <td>11.363636</td>\n",
              "      <td>11.136779</td>\n",
              "      <td>0.069170</td>\n",
              "      <td>0.554695</td>\n",
              "      <td>6.284634</td>\n",
              "      <td>68.574901</td>\n",
              "      <td>3.795043</td>\n",
              "      <td>9.549407</td>\n",
              "      <td>408.237154</td>\n",
              "      <td>18.455534</td>\n",
              "      <td>356.674032</td>\n",
              "      <td>12.653063</td>\n",
              "      <td>22.532806</td>\n",
              "    </tr>\n",
              "    <tr>\n",
              "      <th>std</th>\n",
              "      <td>8.601545</td>\n",
              "      <td>23.322453</td>\n",
              "      <td>6.860353</td>\n",
              "      <td>0.253994</td>\n",
              "      <td>0.115878</td>\n",
              "      <td>0.702617</td>\n",
              "      <td>28.148861</td>\n",
              "      <td>2.105710</td>\n",
              "      <td>8.707259</td>\n",
              "      <td>168.537116</td>\n",
              "      <td>2.164946</td>\n",
              "      <td>91.294864</td>\n",
              "      <td>7.141062</td>\n",
              "      <td>9.197104</td>\n",
              "    </tr>\n",
              "    <tr>\n",
              "      <th>min</th>\n",
              "      <td>0.006320</td>\n",
              "      <td>0.000000</td>\n",
              "      <td>0.460000</td>\n",
              "      <td>0.000000</td>\n",
              "      <td>0.385000</td>\n",
              "      <td>3.561000</td>\n",
              "      <td>2.900000</td>\n",
              "      <td>1.129600</td>\n",
              "      <td>1.000000</td>\n",
              "      <td>187.000000</td>\n",
              "      <td>12.600000</td>\n",
              "      <td>0.320000</td>\n",
              "      <td>1.730000</td>\n",
              "      <td>5.000000</td>\n",
              "    </tr>\n",
              "    <tr>\n",
              "      <th>25%</th>\n",
              "      <td>0.082045</td>\n",
              "      <td>0.000000</td>\n",
              "      <td>5.190000</td>\n",
              "      <td>0.000000</td>\n",
              "      <td>0.449000</td>\n",
              "      <td>5.885500</td>\n",
              "      <td>45.025000</td>\n",
              "      <td>2.100175</td>\n",
              "      <td>4.000000</td>\n",
              "      <td>279.000000</td>\n",
              "      <td>17.400000</td>\n",
              "      <td>375.377500</td>\n",
              "      <td>6.950000</td>\n",
              "      <td>17.025000</td>\n",
              "    </tr>\n",
              "    <tr>\n",
              "      <th>50%</th>\n",
              "      <td>0.256510</td>\n",
              "      <td>0.000000</td>\n",
              "      <td>9.690000</td>\n",
              "      <td>0.000000</td>\n",
              "      <td>0.538000</td>\n",
              "      <td>6.208500</td>\n",
              "      <td>77.500000</td>\n",
              "      <td>3.207450</td>\n",
              "      <td>5.000000</td>\n",
              "      <td>330.000000</td>\n",
              "      <td>19.050000</td>\n",
              "      <td>391.440000</td>\n",
              "      <td>11.360000</td>\n",
              "      <td>21.200000</td>\n",
              "    </tr>\n",
              "    <tr>\n",
              "      <th>75%</th>\n",
              "      <td>3.677083</td>\n",
              "      <td>12.500000</td>\n",
              "      <td>18.100000</td>\n",
              "      <td>0.000000</td>\n",
              "      <td>0.624000</td>\n",
              "      <td>6.623500</td>\n",
              "      <td>94.075000</td>\n",
              "      <td>5.188425</td>\n",
              "      <td>24.000000</td>\n",
              "      <td>666.000000</td>\n",
              "      <td>20.200000</td>\n",
              "      <td>396.225000</td>\n",
              "      <td>16.955000</td>\n",
              "      <td>25.000000</td>\n",
              "    </tr>\n",
              "    <tr>\n",
              "      <th>max</th>\n",
              "      <td>88.976200</td>\n",
              "      <td>100.000000</td>\n",
              "      <td>27.740000</td>\n",
              "      <td>1.000000</td>\n",
              "      <td>0.871000</td>\n",
              "      <td>8.780000</td>\n",
              "      <td>100.000000</td>\n",
              "      <td>12.126500</td>\n",
              "      <td>24.000000</td>\n",
              "      <td>711.000000</td>\n",
              "      <td>22.000000</td>\n",
              "      <td>396.900000</td>\n",
              "      <td>37.970000</td>\n",
              "      <td>50.000000</td>\n",
              "    </tr>\n",
              "  </tbody>\n",
              "</table>\n",
              "</div>"
            ],
            "text/plain": [
              "             CRIM          ZN       INDUS  ...           B       LSTAT        MEDV\n",
              "count  506.000000  506.000000  506.000000  ...  506.000000  506.000000  506.000000\n",
              "mean     3.613524   11.363636   11.136779  ...  356.674032   12.653063   22.532806\n",
              "std      8.601545   23.322453    6.860353  ...   91.294864    7.141062    9.197104\n",
              "min      0.006320    0.000000    0.460000  ...    0.320000    1.730000    5.000000\n",
              "25%      0.082045    0.000000    5.190000  ...  375.377500    6.950000   17.025000\n",
              "50%      0.256510    0.000000    9.690000  ...  391.440000   11.360000   21.200000\n",
              "75%      3.677083   12.500000   18.100000  ...  396.225000   16.955000   25.000000\n",
              "max     88.976200  100.000000   27.740000  ...  396.900000   37.970000   50.000000\n",
              "\n",
              "[8 rows x 14 columns]"
            ]
          },
          "metadata": {
            "tags": []
          },
          "execution_count": 74
        }
      ]
    },
    {
      "cell_type": "markdown",
      "metadata": {
        "id": "aa06zz-EWPnB",
        "colab_type": "text"
      },
      "source": [
        "## Start by fitting a Linear Regression model to the full dataset\n",
        "\n",
        "**Create a training and testing split (ex., 70/30-split)**"
      ]
    },
    {
      "cell_type": "code",
      "metadata": {
        "id": "zuiXNq74WPnC",
        "colab_type": "code",
        "outputId": "a8dfb720-e77b-4bef-d388-e251a6d730a0",
        "colab": {
          "base_uri": "https://localhost:8080/",
          "height": 51
        }
      },
      "source": [
        "# Create training and testing sets (cross-validation not needed)\n",
        "train_set = bos.sample(frac=0.7, random_state=100)\n",
        "test_set = bos[~bos.isin(train_set)].dropna()\n",
        "print(train_set.shape[0])\n",
        "print(test_set.shape[0])"
      ],
      "execution_count": 75,
      "outputs": [
        {
          "output_type": "stream",
          "text": [
            "354\n",
            "152\n"
          ],
          "name": "stdout"
        }
      ]
    },
    {
      "cell_type": "code",
      "metadata": {
        "id": "wg20olcMWPnF",
        "colab_type": "code",
        "outputId": "0837d9d9-773f-4cb5-ae60-0b95061a5209",
        "colab": {
          "base_uri": "https://localhost:8080/",
          "height": 204
        }
      },
      "source": [
        "train_set.head()"
      ],
      "execution_count": 76,
      "outputs": [
        {
          "output_type": "execute_result",
          "data": {
            "text/html": [
              "<div>\n",
              "<style scoped>\n",
              "    .dataframe tbody tr th:only-of-type {\n",
              "        vertical-align: middle;\n",
              "    }\n",
              "\n",
              "    .dataframe tbody tr th {\n",
              "        vertical-align: top;\n",
              "    }\n",
              "\n",
              "    .dataframe thead th {\n",
              "        text-align: right;\n",
              "    }\n",
              "</style>\n",
              "<table border=\"1\" class=\"dataframe\">\n",
              "  <thead>\n",
              "    <tr style=\"text-align: right;\">\n",
              "      <th></th>\n",
              "      <th>CRIM</th>\n",
              "      <th>ZN</th>\n",
              "      <th>INDUS</th>\n",
              "      <th>CHAS</th>\n",
              "      <th>NOX</th>\n",
              "      <th>RM</th>\n",
              "      <th>AGE</th>\n",
              "      <th>DIS</th>\n",
              "      <th>RAD</th>\n",
              "      <th>TAX</th>\n",
              "      <th>PTRATIO</th>\n",
              "      <th>B</th>\n",
              "      <th>LSTAT</th>\n",
              "      <th>MEDV</th>\n",
              "    </tr>\n",
              "  </thead>\n",
              "  <tbody>\n",
              "    <tr>\n",
              "      <th>198</th>\n",
              "      <td>0.03768</td>\n",
              "      <td>80.0</td>\n",
              "      <td>1.52</td>\n",
              "      <td>0.0</td>\n",
              "      <td>0.404</td>\n",
              "      <td>7.274</td>\n",
              "      <td>38.3</td>\n",
              "      <td>7.3090</td>\n",
              "      <td>2.0</td>\n",
              "      <td>329.0</td>\n",
              "      <td>12.6</td>\n",
              "      <td>392.20</td>\n",
              "      <td>6.62</td>\n",
              "      <td>34.6</td>\n",
              "    </tr>\n",
              "    <tr>\n",
              "      <th>229</th>\n",
              "      <td>0.44178</td>\n",
              "      <td>0.0</td>\n",
              "      <td>6.20</td>\n",
              "      <td>0.0</td>\n",
              "      <td>0.504</td>\n",
              "      <td>6.552</td>\n",
              "      <td>21.4</td>\n",
              "      <td>3.3751</td>\n",
              "      <td>8.0</td>\n",
              "      <td>307.0</td>\n",
              "      <td>17.4</td>\n",
              "      <td>380.34</td>\n",
              "      <td>3.76</td>\n",
              "      <td>31.5</td>\n",
              "    </tr>\n",
              "    <tr>\n",
              "      <th>502</th>\n",
              "      <td>0.04527</td>\n",
              "      <td>0.0</td>\n",
              "      <td>11.93</td>\n",
              "      <td>0.0</td>\n",
              "      <td>0.573</td>\n",
              "      <td>6.120</td>\n",
              "      <td>76.7</td>\n",
              "      <td>2.2875</td>\n",
              "      <td>1.0</td>\n",
              "      <td>273.0</td>\n",
              "      <td>21.0</td>\n",
              "      <td>396.90</td>\n",
              "      <td>9.08</td>\n",
              "      <td>20.6</td>\n",
              "    </tr>\n",
              "    <tr>\n",
              "      <th>31</th>\n",
              "      <td>1.35472</td>\n",
              "      <td>0.0</td>\n",
              "      <td>8.14</td>\n",
              "      <td>0.0</td>\n",
              "      <td>0.538</td>\n",
              "      <td>6.072</td>\n",
              "      <td>100.0</td>\n",
              "      <td>4.1750</td>\n",
              "      <td>4.0</td>\n",
              "      <td>307.0</td>\n",
              "      <td>21.0</td>\n",
              "      <td>376.73</td>\n",
              "      <td>13.04</td>\n",
              "      <td>14.5</td>\n",
              "    </tr>\n",
              "    <tr>\n",
              "      <th>315</th>\n",
              "      <td>0.25356</td>\n",
              "      <td>0.0</td>\n",
              "      <td>9.90</td>\n",
              "      <td>0.0</td>\n",
              "      <td>0.544</td>\n",
              "      <td>5.705</td>\n",
              "      <td>77.7</td>\n",
              "      <td>3.9450</td>\n",
              "      <td>4.0</td>\n",
              "      <td>304.0</td>\n",
              "      <td>18.4</td>\n",
              "      <td>396.42</td>\n",
              "      <td>11.50</td>\n",
              "      <td>16.2</td>\n",
              "    </tr>\n",
              "  </tbody>\n",
              "</table>\n",
              "</div>"
            ],
            "text/plain": [
              "        CRIM    ZN  INDUS  CHAS    NOX  ...    TAX  PTRATIO       B  LSTAT  MEDV\n",
              "198  0.03768  80.0   1.52   0.0  0.404  ...  329.0     12.6  392.20   6.62  34.6\n",
              "229  0.44178   0.0   6.20   0.0  0.504  ...  307.0     17.4  380.34   3.76  31.5\n",
              "502  0.04527   0.0  11.93   0.0  0.573  ...  273.0     21.0  396.90   9.08  20.6\n",
              "31   1.35472   0.0   8.14   0.0  0.538  ...  307.0     21.0  376.73  13.04  14.5\n",
              "315  0.25356   0.0   9.90   0.0  0.544  ...  304.0     18.4  396.42  11.50  16.2\n",
              "\n",
              "[5 rows x 14 columns]"
            ]
          },
          "metadata": {
            "tags": []
          },
          "execution_count": 76
        }
      ]
    },
    {
      "cell_type": "code",
      "metadata": {
        "id": "apWvMh8UWPnI",
        "colab_type": "code",
        "colab": {}
      },
      "source": [
        "# Get the training and testing row indices for later use\n",
        "train_index = train_set.index.values.astype(int)\n",
        "test_index = test_set.index.values.astype(int)"
      ],
      "execution_count": 0,
      "outputs": []
    },
    {
      "cell_type": "code",
      "metadata": {
        "id": "4SruTo28WPnK",
        "colab_type": "code",
        "outputId": "aafd9b3d-c9b0-4461-aedf-213193443b27",
        "colab": {
          "base_uri": "https://localhost:8080/",
          "height": 204
        }
      },
      "source": [
        "# Demonstration of using the row indices above to select consistent records\n",
        "bos.iloc[train_index].head()"
      ],
      "execution_count": 78,
      "outputs": [
        {
          "output_type": "execute_result",
          "data": {
            "text/html": [
              "<div>\n",
              "<style scoped>\n",
              "    .dataframe tbody tr th:only-of-type {\n",
              "        vertical-align: middle;\n",
              "    }\n",
              "\n",
              "    .dataframe tbody tr th {\n",
              "        vertical-align: top;\n",
              "    }\n",
              "\n",
              "    .dataframe thead th {\n",
              "        text-align: right;\n",
              "    }\n",
              "</style>\n",
              "<table border=\"1\" class=\"dataframe\">\n",
              "  <thead>\n",
              "    <tr style=\"text-align: right;\">\n",
              "      <th></th>\n",
              "      <th>CRIM</th>\n",
              "      <th>ZN</th>\n",
              "      <th>INDUS</th>\n",
              "      <th>CHAS</th>\n",
              "      <th>NOX</th>\n",
              "      <th>RM</th>\n",
              "      <th>AGE</th>\n",
              "      <th>DIS</th>\n",
              "      <th>RAD</th>\n",
              "      <th>TAX</th>\n",
              "      <th>PTRATIO</th>\n",
              "      <th>B</th>\n",
              "      <th>LSTAT</th>\n",
              "      <th>MEDV</th>\n",
              "    </tr>\n",
              "  </thead>\n",
              "  <tbody>\n",
              "    <tr>\n",
              "      <th>198</th>\n",
              "      <td>0.03768</td>\n",
              "      <td>80.0</td>\n",
              "      <td>1.52</td>\n",
              "      <td>0.0</td>\n",
              "      <td>0.404</td>\n",
              "      <td>7.274</td>\n",
              "      <td>38.3</td>\n",
              "      <td>7.3090</td>\n",
              "      <td>2.0</td>\n",
              "      <td>329.0</td>\n",
              "      <td>12.6</td>\n",
              "      <td>392.20</td>\n",
              "      <td>6.62</td>\n",
              "      <td>34.6</td>\n",
              "    </tr>\n",
              "    <tr>\n",
              "      <th>229</th>\n",
              "      <td>0.44178</td>\n",
              "      <td>0.0</td>\n",
              "      <td>6.20</td>\n",
              "      <td>0.0</td>\n",
              "      <td>0.504</td>\n",
              "      <td>6.552</td>\n",
              "      <td>21.4</td>\n",
              "      <td>3.3751</td>\n",
              "      <td>8.0</td>\n",
              "      <td>307.0</td>\n",
              "      <td>17.4</td>\n",
              "      <td>380.34</td>\n",
              "      <td>3.76</td>\n",
              "      <td>31.5</td>\n",
              "    </tr>\n",
              "    <tr>\n",
              "      <th>502</th>\n",
              "      <td>0.04527</td>\n",
              "      <td>0.0</td>\n",
              "      <td>11.93</td>\n",
              "      <td>0.0</td>\n",
              "      <td>0.573</td>\n",
              "      <td>6.120</td>\n",
              "      <td>76.7</td>\n",
              "      <td>2.2875</td>\n",
              "      <td>1.0</td>\n",
              "      <td>273.0</td>\n",
              "      <td>21.0</td>\n",
              "      <td>396.90</td>\n",
              "      <td>9.08</td>\n",
              "      <td>20.6</td>\n",
              "    </tr>\n",
              "    <tr>\n",
              "      <th>31</th>\n",
              "      <td>1.35472</td>\n",
              "      <td>0.0</td>\n",
              "      <td>8.14</td>\n",
              "      <td>0.0</td>\n",
              "      <td>0.538</td>\n",
              "      <td>6.072</td>\n",
              "      <td>100.0</td>\n",
              "      <td>4.1750</td>\n",
              "      <td>4.0</td>\n",
              "      <td>307.0</td>\n",
              "      <td>21.0</td>\n",
              "      <td>376.73</td>\n",
              "      <td>13.04</td>\n",
              "      <td>14.5</td>\n",
              "    </tr>\n",
              "    <tr>\n",
              "      <th>315</th>\n",
              "      <td>0.25356</td>\n",
              "      <td>0.0</td>\n",
              "      <td>9.90</td>\n",
              "      <td>0.0</td>\n",
              "      <td>0.544</td>\n",
              "      <td>5.705</td>\n",
              "      <td>77.7</td>\n",
              "      <td>3.9450</td>\n",
              "      <td>4.0</td>\n",
              "      <td>304.0</td>\n",
              "      <td>18.4</td>\n",
              "      <td>396.42</td>\n",
              "      <td>11.50</td>\n",
              "      <td>16.2</td>\n",
              "    </tr>\n",
              "  </tbody>\n",
              "</table>\n",
              "</div>"
            ],
            "text/plain": [
              "        CRIM    ZN  INDUS  CHAS    NOX  ...    TAX  PTRATIO       B  LSTAT  MEDV\n",
              "198  0.03768  80.0   1.52   0.0  0.404  ...  329.0     12.6  392.20   6.62  34.6\n",
              "229  0.44178   0.0   6.20   0.0  0.504  ...  307.0     17.4  380.34   3.76  31.5\n",
              "502  0.04527   0.0  11.93   0.0  0.573  ...  273.0     21.0  396.90   9.08  20.6\n",
              "31   1.35472   0.0   8.14   0.0  0.538  ...  307.0     21.0  376.73  13.04  14.5\n",
              "315  0.25356   0.0   9.90   0.0  0.544  ...  304.0     18.4  396.42  11.50  16.2\n",
              "\n",
              "[5 rows x 14 columns]"
            ]
          },
          "metadata": {
            "tags": []
          },
          "execution_count": 78
        }
      ]
    },
    {
      "cell_type": "code",
      "metadata": {
        "id": "nnyvKe9WWPnN",
        "colab_type": "code",
        "colab": {}
      },
      "source": [
        "# Converting the training and testing datasets back to matrix-formats\n",
        "X_train = train_set.iloc[:, :-1].values # returns the data; excluding the target\n",
        "Y_train = train_set.iloc[:, -1].values # returns the target-only\n",
        "X_test = test_set.iloc[:, :-1].values # \"\"\n",
        "Y_test = test_set.iloc[:, -1].values # \"\""
      ],
      "execution_count": 0,
      "outputs": []
    },
    {
      "cell_type": "code",
      "metadata": {
        "id": "vWuhcqFDWPnQ",
        "colab_type": "code",
        "outputId": "ead53c91-ba63-45ea-c7a7-6a37384bf854",
        "colab": {
          "base_uri": "https://localhost:8080/",
          "height": 136
        }
      },
      "source": [
        "# Fit a linear regression to the training data\n",
        "reg = LinearRegression(normalize=True).fit(X_train, Y_train)\n",
        "print(reg.score(X_train, Y_train))\n",
        "print(reg.coef_)\n",
        "print(reg.intercept_)\n",
        "print(reg.get_params())"
      ],
      "execution_count": 80,
      "outputs": [
        {
          "output_type": "stream",
          "text": [
            "0.7478284701218886\n",
            "[-1.35456753e-01  5.48606010e-02  5.46611167e-02  3.57648807e+00\n",
            " -2.01163242e+01  3.96567027e+00  1.33685712e-02 -1.48716658e+00\n",
            "  2.99295349e-01 -9.83868843e-03 -9.45023886e-01  6.45207267e-03\n",
            " -5.77572297e-01]\n",
            "36.07934768828229\n",
            "{'copy_X': True, 'fit_intercept': True, 'n_jobs': None, 'normalize': True}\n"
          ],
          "name": "stdout"
        }
      ]
    },
    {
      "cell_type": "code",
      "metadata": {
        "id": "aEh_hTfAWPnT",
        "colab_type": "code",
        "outputId": "a9fde858-6831-4f6b-e5cf-a6b51491fa6f",
        "colab": {
          "base_uri": "https://localhost:8080/",
          "height": 51
        }
      },
      "source": [
        "# Find the variable with the largest \"normalized\" coefficient value\n",
        "print('The abs(max) coef-value is {}'.format(max(reg.coef_))) # Positive Max\n",
        "#print('The abs(max) coef-value is {}'.format(max(reg.coef_, key=abs))) # ABS Max\n",
        "max_var = max(reg.coef_) # Positive Max\n",
        "#max_var = max(reg.coef_, key=abs) # ABS Max\n",
        "var_index = reg.coef_.tolist().index(max_var)\n",
        "print('The variable associated with this coef-value is {}'.format(boston.feature_names[var_index]))"
      ],
      "execution_count": 81,
      "outputs": [
        {
          "output_type": "stream",
          "text": [
            "The abs(max) coef-value is 3.9656702708586287\n",
            "The variable associated with this coef-value is RM\n"
          ],
          "name": "stdout"
        }
      ]
    },
    {
      "cell_type": "code",
      "metadata": {
        "id": "BEXEI3zyWPnW",
        "colab_type": "code",
        "outputId": "9145a771-813e-4284-a38c-ec968eb77458",
        "colab": {
          "base_uri": "https://localhost:8080/",
          "height": 85
        }
      },
      "source": [
        "Y_pred = reg.predict(X_test)\n",
        "\n",
        "orig_mae = mean_absolute_error(Y_test,Y_pred)\n",
        "orig_mse = mean_squared_error(Y_test,Y_pred)\n",
        "orig_rmse_val = rmse(Y_test,Y_pred)\n",
        "orig_r2 = r2_score(Y_test,Y_pred)\n",
        "print(\"MAE: %.3f\"%orig_mae)\n",
        "print(\"MSE:  %.3f\"%orig_mse)\n",
        "print(\"RMSE:  %.3f\"%orig_rmse_val)\n",
        "print(\"R2:  %.3f\"%orig_r2)"
      ],
      "execution_count": 82,
      "outputs": [
        {
          "output_type": "stream",
          "text": [
            "MAE: 3.605\n",
            "MSE:  24.099\n",
            "RMSE:  4.909\n",
            "R2:  0.705\n"
          ],
          "name": "stdout"
        }
      ]
    },
    {
      "cell_type": "code",
      "metadata": {
        "id": "j0HCaOzIWPna",
        "colab_type": "code",
        "colab": {}
      },
      "source": [
        "res_frame = pd.DataFrame({'data':'original',\n",
        "                   'imputation':'none',\n",
        "                   'mae': orig_mae, \n",
        "                   'mse': orig_mse, \n",
        "                   'rmse':orig_rmse_val, \n",
        "                   'R2':orig_r2,\n",
        "                   'mae_diff':np.nan,\n",
        "                   'mse_diff':np.nan,\n",
        "                   'rmse_diff':np.nan,\n",
        "                   'R2_diff':np.nan}, index=[0])"
      ],
      "execution_count": 0,
      "outputs": []
    },
    {
      "cell_type": "code",
      "metadata": {
        "id": "-zwlsgv1WPne",
        "colab_type": "code",
        "outputId": "f62b60e3-2346-4a1f-904a-fb91768584da",
        "colab": {
          "base_uri": "https://localhost:8080/",
          "height": 80
        }
      },
      "source": [
        "res_frame"
      ],
      "execution_count": 84,
      "outputs": [
        {
          "output_type": "execute_result",
          "data": {
            "text/html": [
              "<div>\n",
              "<style scoped>\n",
              "    .dataframe tbody tr th:only-of-type {\n",
              "        vertical-align: middle;\n",
              "    }\n",
              "\n",
              "    .dataframe tbody tr th {\n",
              "        vertical-align: top;\n",
              "    }\n",
              "\n",
              "    .dataframe thead th {\n",
              "        text-align: right;\n",
              "    }\n",
              "</style>\n",
              "<table border=\"1\" class=\"dataframe\">\n",
              "  <thead>\n",
              "    <tr style=\"text-align: right;\">\n",
              "      <th></th>\n",
              "      <th>data</th>\n",
              "      <th>imputation</th>\n",
              "      <th>mae</th>\n",
              "      <th>mse</th>\n",
              "      <th>rmse</th>\n",
              "      <th>R2</th>\n",
              "      <th>mae_diff</th>\n",
              "      <th>mse_diff</th>\n",
              "      <th>rmse_diff</th>\n",
              "      <th>R2_diff</th>\n",
              "    </tr>\n",
              "  </thead>\n",
              "  <tbody>\n",
              "    <tr>\n",
              "      <th>0</th>\n",
              "      <td>original</td>\n",
              "      <td>none</td>\n",
              "      <td>3.604571</td>\n",
              "      <td>24.098505</td>\n",
              "      <td>4.909023</td>\n",
              "      <td>0.70494</td>\n",
              "      <td>NaN</td>\n",
              "      <td>NaN</td>\n",
              "      <td>NaN</td>\n",
              "      <td>NaN</td>\n",
              "    </tr>\n",
              "  </tbody>\n",
              "</table>\n",
              "</div>"
            ],
            "text/plain": [
              "       data imputation       mae  ...  mse_diff  rmse_diff  R2_diff\n",
              "0  original       none  3.604571  ...       NaN        NaN      NaN\n",
              "\n",
              "[1 rows x 10 columns]"
            ]
          },
          "metadata": {
            "tags": []
          },
          "execution_count": 84
        }
      ]
    },
    {
      "cell_type": "markdown",
      "metadata": {
        "id": "SD7l1-ajWPnh",
        "colab_type": "text"
      },
      "source": [
        "## Round 1 of Imputation\n",
        "\n",
        "**Here we can randomly sample the full dataset and replace a single column's values**"
      ]
    },
    {
      "cell_type": "code",
      "metadata": {
        "id": "0os8vbYe_dqr",
        "colab_type": "code",
        "colab": {
          "base_uri": "https://localhost:8080/",
          "height": 527
        },
        "outputId": "2975a6f0-f489-4d30-be11-59af808584c1"
      },
      "source": [
        "temp_frame =  pd.DataFrame([])\n",
        "def missingRM(fraction):\n",
        "  in_sample = bos.sample(frac=fraction, random_state=99)\n",
        "  out_sample = bos[~bos.isin(in_sample)].dropna()\n",
        "  in_sample['RM'] = np.nan\n",
        "  in_sample['RM'] = in_sample['RM'].fillna(out_sample['RM'].median())\n",
        "  imputed_data = pd.concat([in_sample, out_sample])\n",
        "  imputed_data = imputed_data.sort_index()\n",
        "  train_set = imputed_data.iloc[train_index]\n",
        "  test_set = imputed_data.iloc[test_index]\n",
        "  X_train = train_set.iloc[:, :-1].values\n",
        "  Y_train = train_set.iloc[:, -1].values\n",
        "  X_test = test_set.iloc[:, :-1].values\n",
        "  Y_test = test_set.iloc[:, -1].values\n",
        "  reg2 = LinearRegression().fit(X_train, Y_train)\n",
        "  Y_pred = reg2.predict(X_test)\n",
        "\n",
        "  mae = mean_absolute_error(Y_test,Y_pred)\n",
        "  mse = mean_squared_error(Y_test,Y_pred)\n",
        "  rmse_val = rmse(Y_test,Y_pred)\n",
        "  r2 = r2_score(Y_test,Y_pred)\n",
        "  frame= pd.DataFrame({'data imputed':fraction,\n",
        "                    'imputation':'MAR',\n",
        "                    'mae': mae, \n",
        "                    'mse': mse, \n",
        "                    'rmse':rmse_val,\n",
        "                    'R2':r2,\n",
        "                    'mae_diff':mae-orig_mae,\n",
        "                    'mse_diff':mse-orig_mse,\n",
        "                    'rmse_diff':rmse_val-orig_rmse_val,\n",
        "                    'R2_diff':r2-orig_r2\n",
        "                    }, index=[0])\n",
        "  with pd.option_context('display.max_rows', None, 'display.max_columns', None): \n",
        "    print(frame)\n",
        "for i in 0.01,0.05,0.1,0.2,0.33,0.5:\n",
        "  missingRM(i)\n"
      ],
      "execution_count": 85,
      "outputs": [
        {
          "output_type": "stream",
          "text": [
            "   data imputed imputation       mae        mse      rmse        R2  mae_diff  \\\n",
            "0          0.01        MAR  3.634187  24.206667  4.920027  0.703616  0.029616   \n",
            "\n",
            "   mse_diff  rmse_diff   R2_diff  \n",
            "0  0.108162   0.011004 -0.001324  \n",
            "   data imputed imputation       mae        mse      rmse        R2  mae_diff  \\\n",
            "0          0.05        MAR  3.644905  24.652966  4.965175  0.698151  0.040334   \n",
            "\n",
            "   mse_diff  rmse_diff   R2_diff  \n",
            "0  0.554461   0.056153 -0.006789  \n",
            "   data imputed imputation       mae        mse      rmse        R2  mae_diff  \\\n",
            "0           0.1        MAR  3.659578  25.155434  5.015519  0.691999  0.055007   \n",
            "\n",
            "   mse_diff  rmse_diff   R2_diff  \n",
            "0  1.056929   0.106496 -0.012941  \n",
            "   data imputed imputation       mae       mse      rmse        R2  mae_diff  \\\n",
            "0           0.2        MAR  3.663828  25.05039  5.005036  0.693285  0.059256   \n",
            "\n",
            "   mse_diff  rmse_diff   R2_diff  \n",
            "0  0.951885   0.096014 -0.011655  \n",
            "   data imputed imputation       mae        mse      rmse        R2  mae_diff  \\\n",
            "0          0.33        MAR  3.725349  26.074701  5.106339  0.680743  0.120778   \n",
            "\n",
            "   mse_diff  rmse_diff   R2_diff  \n",
            "0  1.976196   0.197316 -0.024196  \n",
            "   data imputed imputation      mae        mse      rmse        R2  mae_diff  \\\n",
            "0           0.5        MAR  3.76216  26.861651  5.182823  0.671108  0.157589   \n",
            "\n",
            "   mse_diff  rmse_diff   R2_diff  \n",
            "0  2.763146     0.2738 -0.033832  \n"
          ],
          "name": "stdout"
        }
      ]
    },
    {
      "cell_type": "code",
      "metadata": {
        "id": "XccMu5v7ZNOb",
        "colab_type": "code",
        "colab": {
          "base_uri": "https://localhost:8080/",
          "height": 374
        },
        "outputId": "209313e8-5bc8-457d-c049-7327d0a044c8"
      },
      "source": [
        "temp_frame =  pd.DataFrame([])\n",
        "def missingRMNOX(fraction):\n",
        "  in_sample = bos.sample(frac=fraction, random_state=99)\n",
        "  out_sample = bos[~bos.isin(in_sample)].dropna()\n",
        "  in_sample['RM'] = in_sample.apply(lambda x: x['RM'] if (x['AGE'] > 30 and x['AGE'] % 2 == 0 ) else np.NaN, axis=1)\n",
        "  in_sample['NOX'] = in_sample.apply(lambda x: x['NOX'] if (x['AGE'] > 30 and x['AGE'] % 2 != 0 ) else np.NaN, axis=1)\n",
        "  print(in_sample['RM'].isna().sum())\n",
        "  print(in_sample['NOX'].isna().sum())\n",
        "\n",
        "  in_sample['RM'] = in_sample['RM'].fillna(out_sample['RM'].median())\n",
        "  in_sample['NOX'] = in_sample['NOX'].fillna(out_sample['NOX'].mean())\n",
        "  imputed_data = pd.concat([in_sample, out_sample])\n",
        "  imputed_data = imputed_data.sort_index()\n",
        "  train_set = imputed_data.iloc[train_index]\n",
        "  test_set = imputed_data.iloc[test_index]\n",
        "  X_train = train_set.iloc[:, :-1].values\n",
        "  Y_train = train_set.iloc[:, -1].values\n",
        "  X_test = test_set.iloc[:, :-1].values\n",
        "  Y_test = test_set.iloc[:, -1].values\n",
        "  reg2 = LinearRegression().fit(X_train, Y_train)\n",
        "  Y_pred = reg2.predict(X_test)\n",
        "\n",
        "  mae = mean_absolute_error(Y_test,Y_pred)\n",
        "  mse = mean_squared_error(Y_test,Y_pred)\n",
        "  rmse_val = rmse(Y_test,Y_pred)\n",
        "  r2 = r2_score(Y_test,Y_pred)\n",
        "  frame= pd.DataFrame({'data imputed':fraction,\n",
        "                    'imputation':'MAR',\n",
        "                    'mae': mae, \n",
        "                    'mse': mse, \n",
        "                    'rmse':rmse_val,\n",
        "                    'R2':r2,\n",
        "                    'mae_diff':mae-orig_mae,\n",
        "                    'mse_diff':mse-orig_mse,\n",
        "                    'rmse_diff':rmse_val-orig_rmse_val,\n",
        "                    'R2_diff':r2-orig_r2\n",
        "                    }, index=[0])\n",
        "  with pd.option_context('display.max_rows', None, 'display.max_columns', None): \n",
        "    print(frame)\n",
        "for i in 0.1,0.2,0.3:\n",
        "  missingRMNOX(i)\n"
      ],
      "execution_count": 102,
      "outputs": [
        {
          "output_type": "stream",
          "text": [
            "40\n",
            "17\n",
            "   data imputed imputation       mae        mse      rmse        R2  mae_diff  \\\n",
            "0           0.1        MAR  3.639741  24.847128  4.984689  0.695774   0.03517   \n",
            "\n",
            "   mse_diff  rmse_diff   R2_diff  \n",
            "0  0.748623   0.075667 -0.009166  \n",
            "84\n",
            "28\n",
            "   data imputed imputation       mae        mse      rmse        R2  mae_diff  \\\n",
            "0           0.2        MAR  3.642942  25.332479  5.033138  0.689831  0.038371   \n",
            "\n",
            "   mse_diff  rmse_diff   R2_diff  \n",
            "0  1.233974   0.124115 -0.015109  \n",
            "126\n",
            "44\n",
            "   data imputed imputation       mae        mse      rmse        R2  mae_diff  \\\n",
            "0           0.3        MAR  3.743918  27.054917  5.201434  0.668742  0.139347   \n",
            "\n",
            "   mse_diff  rmse_diff   R2_diff  \n",
            "0  2.956412   0.292411 -0.036198  \n"
          ],
          "name": "stdout"
        }
      ]
    },
    {
      "cell_type": "code",
      "metadata": {
        "id": "mu6TDZbh-1TX",
        "colab_type": "code",
        "colab": {}
      },
      "source": [
        ""
      ],
      "execution_count": 0,
      "outputs": []
    },
    {
      "cell_type": "code",
      "metadata": {
        "colab_type": "code",
        "outputId": "209313e8-5bc8-457d-c049-7327d0a044c8",
        "id": "_f9we-Nd-3RI",
        "colab": {
          "base_uri": "https://localhost:8080/",
          "height": 374
        }
      },
      "source": [
        "temp_frame =  pd.DataFrame([])\n",
        "def missingNonRandomRM(fraction):\n",
        "  in_sample = bos.sample(frac=fraction, random_state=99)\n",
        "  out_sample = bos[~bos.isin(in_sample)].dropna()\n",
        "  in_sample['RM'] = in_sample.apply(lambda x: x['RM'] if (x['AGE'] > 30 and x['AGE'] % 2 == 0 ) else np.NaN, axis=1)\n",
        "  in_sample['NOX'] = in_sample.apply(lambda x: x['NOX'] if (x['AGE'] > 30 and x['AGE'] % 2 != 0 ) else np.NaN, axis=1)\n",
        "  print(in_sample['RM'].isna().sum())\n",
        "  print(in_sample['NOX'].isna().sum())\n",
        "\n",
        "  in_sample['RM'] = in_sample['RM'].fillna(out_sample['RM'].median())\n",
        "  in_sample['NOX'] = in_sample['NOX'].fillna(out_sample['NOX'].mean())\n",
        "  imputed_data = pd.concat([in_sample, out_sample])\n",
        "  imputed_data = imputed_data.sort_index()\n",
        "  train_set = imputed_data.iloc[train_index]\n",
        "  test_set = imputed_data.iloc[test_index]\n",
        "  X_train = train_set.iloc[:, :-1].values\n",
        "  Y_train = train_set.iloc[:, -1].values\n",
        "  X_test = test_set.iloc[:, :-1].values\n",
        "  Y_test = test_set.iloc[:, -1].values\n",
        "  reg2 = LinearRegression().fit(X_train, Y_train)\n",
        "  Y_pred = reg2.predict(X_test)\n",
        "\n",
        "  mae = mean_absolute_error(Y_test,Y_pred)\n",
        "  mse = mean_squared_error(Y_test,Y_pred)\n",
        "  rmse_val = rmse(Y_test,Y_pred)\n",
        "  r2 = r2_score(Y_test,Y_pred)\n",
        "  frame= pd.DataFrame({'data imputed':fraction,\n",
        "                    'imputation':'MAR',\n",
        "                    'mae': mae, \n",
        "                    'mse': mse, \n",
        "                    'rmse':rmse_val,\n",
        "                    'R2':r2,\n",
        "                    'mae_diff':mae-orig_mae,\n",
        "                    'mse_diff':mse-orig_mse,\n",
        "                    'rmse_diff':rmse_val-orig_rmse_val,\n",
        "                    'R2_diff':r2-orig_r2\n",
        "                    }, index=[0])\n",
        "  with pd.option_context('display.max_rows', None, 'display.max_columns', None): \n",
        "    print(frame)\n",
        "for i in 0.1,0.2,0.3:\n",
        "  missingRMNOX(i)\n"
      ],
      "execution_count": 0,
      "outputs": [
        {
          "output_type": "stream",
          "text": [
            "40\n",
            "17\n",
            "   data imputed imputation       mae        mse      rmse        R2  mae_diff  \\\n",
            "0           0.1        MAR  3.639741  24.847128  4.984689  0.695774   0.03517   \n",
            "\n",
            "   mse_diff  rmse_diff   R2_diff  \n",
            "0  0.748623   0.075667 -0.009166  \n",
            "84\n",
            "28\n",
            "   data imputed imputation       mae        mse      rmse        R2  mae_diff  \\\n",
            "0           0.2        MAR  3.642942  25.332479  5.033138  0.689831  0.038371   \n",
            "\n",
            "   mse_diff  rmse_diff   R2_diff  \n",
            "0  1.233974   0.124115 -0.015109  \n",
            "126\n",
            "44\n",
            "   data imputed imputation       mae        mse      rmse        R2  mae_diff  \\\n",
            "0           0.3        MAR  3.743918  27.054917  5.201434  0.668742  0.139347   \n",
            "\n",
            "   mse_diff  rmse_diff   R2_diff  \n",
            "0  2.956412   0.292411 -0.036198  \n"
          ],
          "name": "stdout"
        }
      ]
    },
    {
      "cell_type": "code",
      "metadata": {
        "id": "R8kbdrRmWPni",
        "colab_type": "code",
        "outputId": "30eff73c-d20f-45ad-caf9-2f19f64d5944",
        "colab": {
          "base_uri": "https://localhost:8080/",
          "height": 34
        }
      },
      "source": [
        "in_sample = bos.sample(frac=0.3, random_state=99)\n",
        "in_sample.shape"
      ],
      "execution_count": 87,
      "outputs": [
        {
          "output_type": "execute_result",
          "data": {
            "text/plain": [
              "(152, 14)"
            ]
          },
          "metadata": {
            "tags": []
          },
          "execution_count": 87
        }
      ]
    },
    {
      "cell_type": "code",
      "metadata": {
        "id": "zU7JlFiMWPnn",
        "colab_type": "code",
        "outputId": "5edbca69-0b9c-414b-8fa5-38b7a839e110",
        "colab": {
          "base_uri": "https://localhost:8080/",
          "height": 34
        }
      },
      "source": [
        "out_sample = bos[~bos.isin(in_sample)].dropna()\n",
        "out_sample.shape"
      ],
      "execution_count": 88,
      "outputs": [
        {
          "output_type": "execute_result",
          "data": {
            "text/plain": [
              "(354, 14)"
            ]
          },
          "metadata": {
            "tags": []
          },
          "execution_count": 88
        }
      ]
    },
    {
      "cell_type": "code",
      "metadata": {
        "id": "6e69cAUYWPnr",
        "colab_type": "code",
        "outputId": "d20e2078-71cd-48a1-8ef3-a58d04f2ddff",
        "colab": {
          "base_uri": "https://localhost:8080/",
          "height": 51
        }
      },
      "source": [
        "print(out_sample.shape[0] + in_sample.shape[0])\n",
        "print(bos.shape[0])"
      ],
      "execution_count": 89,
      "outputs": [
        {
          "output_type": "stream",
          "text": [
            "506\n",
            "506\n"
          ],
          "name": "stdout"
        }
      ]
    },
    {
      "cell_type": "code",
      "metadata": {
        "id": "TBijjco6WPnx",
        "colab_type": "code",
        "outputId": "c525a44a-67f4-46ba-bb85-f8b644292c05",
        "colab": {
          "base_uri": "https://localhost:8080/",
          "height": 204
        }
      },
      "source": [
        "in_sample.head()"
      ],
      "execution_count": 90,
      "outputs": [
        {
          "output_type": "execute_result",
          "data": {
            "text/html": [
              "<div>\n",
              "<style scoped>\n",
              "    .dataframe tbody tr th:only-of-type {\n",
              "        vertical-align: middle;\n",
              "    }\n",
              "\n",
              "    .dataframe tbody tr th {\n",
              "        vertical-align: top;\n",
              "    }\n",
              "\n",
              "    .dataframe thead th {\n",
              "        text-align: right;\n",
              "    }\n",
              "</style>\n",
              "<table border=\"1\" class=\"dataframe\">\n",
              "  <thead>\n",
              "    <tr style=\"text-align: right;\">\n",
              "      <th></th>\n",
              "      <th>CRIM</th>\n",
              "      <th>ZN</th>\n",
              "      <th>INDUS</th>\n",
              "      <th>CHAS</th>\n",
              "      <th>NOX</th>\n",
              "      <th>RM</th>\n",
              "      <th>AGE</th>\n",
              "      <th>DIS</th>\n",
              "      <th>RAD</th>\n",
              "      <th>TAX</th>\n",
              "      <th>PTRATIO</th>\n",
              "      <th>B</th>\n",
              "      <th>LSTAT</th>\n",
              "      <th>MEDV</th>\n",
              "    </tr>\n",
              "  </thead>\n",
              "  <tbody>\n",
              "    <tr>\n",
              "      <th>281</th>\n",
              "      <td>0.03705</td>\n",
              "      <td>20.0</td>\n",
              "      <td>3.33</td>\n",
              "      <td>0.0</td>\n",
              "      <td>0.4429</td>\n",
              "      <td>6.968</td>\n",
              "      <td>37.2</td>\n",
              "      <td>5.2447</td>\n",
              "      <td>5.0</td>\n",
              "      <td>216.0</td>\n",
              "      <td>14.9</td>\n",
              "      <td>392.23</td>\n",
              "      <td>4.59</td>\n",
              "      <td>35.4</td>\n",
              "    </tr>\n",
              "    <tr>\n",
              "      <th>273</th>\n",
              "      <td>0.22188</td>\n",
              "      <td>20.0</td>\n",
              "      <td>6.96</td>\n",
              "      <td>1.0</td>\n",
              "      <td>0.4640</td>\n",
              "      <td>7.691</td>\n",
              "      <td>51.8</td>\n",
              "      <td>4.3665</td>\n",
              "      <td>3.0</td>\n",
              "      <td>223.0</td>\n",
              "      <td>18.6</td>\n",
              "      <td>390.77</td>\n",
              "      <td>6.58</td>\n",
              "      <td>35.2</td>\n",
              "    </tr>\n",
              "    <tr>\n",
              "      <th>251</th>\n",
              "      <td>0.21409</td>\n",
              "      <td>22.0</td>\n",
              "      <td>5.86</td>\n",
              "      <td>0.0</td>\n",
              "      <td>0.4310</td>\n",
              "      <td>6.438</td>\n",
              "      <td>8.9</td>\n",
              "      <td>7.3967</td>\n",
              "      <td>7.0</td>\n",
              "      <td>330.0</td>\n",
              "      <td>19.1</td>\n",
              "      <td>377.07</td>\n",
              "      <td>3.59</td>\n",
              "      <td>24.8</td>\n",
              "    </tr>\n",
              "    <tr>\n",
              "      <th>329</th>\n",
              "      <td>0.06724</td>\n",
              "      <td>0.0</td>\n",
              "      <td>3.24</td>\n",
              "      <td>0.0</td>\n",
              "      <td>0.4600</td>\n",
              "      <td>6.333</td>\n",
              "      <td>17.2</td>\n",
              "      <td>5.2146</td>\n",
              "      <td>4.0</td>\n",
              "      <td>430.0</td>\n",
              "      <td>16.9</td>\n",
              "      <td>375.21</td>\n",
              "      <td>7.34</td>\n",
              "      <td>22.6</td>\n",
              "    </tr>\n",
              "    <tr>\n",
              "      <th>40</th>\n",
              "      <td>0.03359</td>\n",
              "      <td>75.0</td>\n",
              "      <td>2.95</td>\n",
              "      <td>0.0</td>\n",
              "      <td>0.4280</td>\n",
              "      <td>7.024</td>\n",
              "      <td>15.8</td>\n",
              "      <td>5.4011</td>\n",
              "      <td>3.0</td>\n",
              "      <td>252.0</td>\n",
              "      <td>18.3</td>\n",
              "      <td>395.62</td>\n",
              "      <td>1.98</td>\n",
              "      <td>34.9</td>\n",
              "    </tr>\n",
              "  </tbody>\n",
              "</table>\n",
              "</div>"
            ],
            "text/plain": [
              "        CRIM    ZN  INDUS  CHAS     NOX  ...    TAX  PTRATIO       B  LSTAT  MEDV\n",
              "281  0.03705  20.0   3.33   0.0  0.4429  ...  216.0     14.9  392.23   4.59  35.4\n",
              "273  0.22188  20.0   6.96   1.0  0.4640  ...  223.0     18.6  390.77   6.58  35.2\n",
              "251  0.21409  22.0   5.86   0.0  0.4310  ...  330.0     19.1  377.07   3.59  24.8\n",
              "329  0.06724   0.0   3.24   0.0  0.4600  ...  430.0     16.9  375.21   7.34  22.6\n",
              "40   0.03359  75.0   2.95   0.0  0.4280  ...  252.0     18.3  395.62   1.98  34.9\n",
              "\n",
              "[5 rows x 14 columns]"
            ]
          },
          "metadata": {
            "tags": []
          },
          "execution_count": 90
        }
      ]
    },
    {
      "cell_type": "markdown",
      "metadata": {
        "id": "8zYrBxRdWPn1",
        "colab_type": "text"
      },
      "source": [
        "## Choose a variable to replace"
      ]
    },
    {
      "cell_type": "code",
      "metadata": {
        "id": "7vpCPlUAWPn2",
        "colab_type": "code",
        "outputId": "be8157f3-254c-4ac5-d995-d6766e4c39be",
        "colab": {
          "base_uri": "https://localhost:8080/",
          "height": 204
        }
      },
      "source": [
        "#in_sample['NOX'] = np.nan\n",
        "in_sample['RM'] = np.nan\n",
        "in_sample.head()"
      ],
      "execution_count": 91,
      "outputs": [
        {
          "output_type": "execute_result",
          "data": {
            "text/html": [
              "<div>\n",
              "<style scoped>\n",
              "    .dataframe tbody tr th:only-of-type {\n",
              "        vertical-align: middle;\n",
              "    }\n",
              "\n",
              "    .dataframe tbody tr th {\n",
              "        vertical-align: top;\n",
              "    }\n",
              "\n",
              "    .dataframe thead th {\n",
              "        text-align: right;\n",
              "    }\n",
              "</style>\n",
              "<table border=\"1\" class=\"dataframe\">\n",
              "  <thead>\n",
              "    <tr style=\"text-align: right;\">\n",
              "      <th></th>\n",
              "      <th>CRIM</th>\n",
              "      <th>ZN</th>\n",
              "      <th>INDUS</th>\n",
              "      <th>CHAS</th>\n",
              "      <th>NOX</th>\n",
              "      <th>RM</th>\n",
              "      <th>AGE</th>\n",
              "      <th>DIS</th>\n",
              "      <th>RAD</th>\n",
              "      <th>TAX</th>\n",
              "      <th>PTRATIO</th>\n",
              "      <th>B</th>\n",
              "      <th>LSTAT</th>\n",
              "      <th>MEDV</th>\n",
              "    </tr>\n",
              "  </thead>\n",
              "  <tbody>\n",
              "    <tr>\n",
              "      <th>281</th>\n",
              "      <td>0.03705</td>\n",
              "      <td>20.0</td>\n",
              "      <td>3.33</td>\n",
              "      <td>0.0</td>\n",
              "      <td>0.4429</td>\n",
              "      <td>NaN</td>\n",
              "      <td>37.2</td>\n",
              "      <td>5.2447</td>\n",
              "      <td>5.0</td>\n",
              "      <td>216.0</td>\n",
              "      <td>14.9</td>\n",
              "      <td>392.23</td>\n",
              "      <td>4.59</td>\n",
              "      <td>35.4</td>\n",
              "    </tr>\n",
              "    <tr>\n",
              "      <th>273</th>\n",
              "      <td>0.22188</td>\n",
              "      <td>20.0</td>\n",
              "      <td>6.96</td>\n",
              "      <td>1.0</td>\n",
              "      <td>0.4640</td>\n",
              "      <td>NaN</td>\n",
              "      <td>51.8</td>\n",
              "      <td>4.3665</td>\n",
              "      <td>3.0</td>\n",
              "      <td>223.0</td>\n",
              "      <td>18.6</td>\n",
              "      <td>390.77</td>\n",
              "      <td>6.58</td>\n",
              "      <td>35.2</td>\n",
              "    </tr>\n",
              "    <tr>\n",
              "      <th>251</th>\n",
              "      <td>0.21409</td>\n",
              "      <td>22.0</td>\n",
              "      <td>5.86</td>\n",
              "      <td>0.0</td>\n",
              "      <td>0.4310</td>\n",
              "      <td>NaN</td>\n",
              "      <td>8.9</td>\n",
              "      <td>7.3967</td>\n",
              "      <td>7.0</td>\n",
              "      <td>330.0</td>\n",
              "      <td>19.1</td>\n",
              "      <td>377.07</td>\n",
              "      <td>3.59</td>\n",
              "      <td>24.8</td>\n",
              "    </tr>\n",
              "    <tr>\n",
              "      <th>329</th>\n",
              "      <td>0.06724</td>\n",
              "      <td>0.0</td>\n",
              "      <td>3.24</td>\n",
              "      <td>0.0</td>\n",
              "      <td>0.4600</td>\n",
              "      <td>NaN</td>\n",
              "      <td>17.2</td>\n",
              "      <td>5.2146</td>\n",
              "      <td>4.0</td>\n",
              "      <td>430.0</td>\n",
              "      <td>16.9</td>\n",
              "      <td>375.21</td>\n",
              "      <td>7.34</td>\n",
              "      <td>22.6</td>\n",
              "    </tr>\n",
              "    <tr>\n",
              "      <th>40</th>\n",
              "      <td>0.03359</td>\n",
              "      <td>75.0</td>\n",
              "      <td>2.95</td>\n",
              "      <td>0.0</td>\n",
              "      <td>0.4280</td>\n",
              "      <td>NaN</td>\n",
              "      <td>15.8</td>\n",
              "      <td>5.4011</td>\n",
              "      <td>3.0</td>\n",
              "      <td>252.0</td>\n",
              "      <td>18.3</td>\n",
              "      <td>395.62</td>\n",
              "      <td>1.98</td>\n",
              "      <td>34.9</td>\n",
              "    </tr>\n",
              "  </tbody>\n",
              "</table>\n",
              "</div>"
            ],
            "text/plain": [
              "        CRIM    ZN  INDUS  CHAS     NOX  ...    TAX  PTRATIO       B  LSTAT  MEDV\n",
              "281  0.03705  20.0   3.33   0.0  0.4429  ...  216.0     14.9  392.23   4.59  35.4\n",
              "273  0.22188  20.0   6.96   1.0  0.4640  ...  223.0     18.6  390.77   6.58  35.2\n",
              "251  0.21409  22.0   5.86   0.0  0.4310  ...  330.0     19.1  377.07   3.59  24.8\n",
              "329  0.06724   0.0   3.24   0.0  0.4600  ...  430.0     16.9  375.21   7.34  22.6\n",
              "40   0.03359  75.0   2.95   0.0  0.4280  ...  252.0     18.3  395.62   1.98  34.9\n",
              "\n",
              "[5 rows x 14 columns]"
            ]
          },
          "metadata": {
            "tags": []
          },
          "execution_count": 91
        }
      ]
    },
    {
      "cell_type": "markdown",
      "metadata": {
        "id": "A13g-oD1WPn4",
        "colab_type": "text"
      },
      "source": [
        "**Choose an imputation method**"
      ]
    },
    {
      "cell_type": "code",
      "metadata": {
        "id": "Ee9ffHI3WPn5",
        "colab_type": "code",
        "outputId": "a6f19b0f-cce4-48b2-d201-743bab0398ff",
        "colab": {
          "base_uri": "https://localhost:8080/",
          "height": 34
        }
      },
      "source": [
        "#out_sample['NOX'].median()\n",
        "out_sample['RM'].median()"
      ],
      "execution_count": 92,
      "outputs": [
        {
          "output_type": "execute_result",
          "data": {
            "text/plain": [
              "6.2085"
            ]
          },
          "metadata": {
            "tags": []
          },
          "execution_count": 92
        }
      ]
    },
    {
      "cell_type": "code",
      "metadata": {
        "id": "20x3GLA9WPn8",
        "colab_type": "code",
        "outputId": "232e82ea-3b65-413c-fcef-4d2d816c3b75",
        "colab": {
          "base_uri": "https://localhost:8080/",
          "height": 204
        }
      },
      "source": [
        "#in_sample['NOX'] = in_sample['NOX'].fillna(out_sample['NOX'].median())\n",
        "#in_sample['NOX'] = in_sample['NOX'].fillna(1)\n",
        "in_sample['RM'] = in_sample['RM'].fillna(out_sample['RM'].median())\n",
        "in_sample.head()"
      ],
      "execution_count": 93,
      "outputs": [
        {
          "output_type": "execute_result",
          "data": {
            "text/html": [
              "<div>\n",
              "<style scoped>\n",
              "    .dataframe tbody tr th:only-of-type {\n",
              "        vertical-align: middle;\n",
              "    }\n",
              "\n",
              "    .dataframe tbody tr th {\n",
              "        vertical-align: top;\n",
              "    }\n",
              "\n",
              "    .dataframe thead th {\n",
              "        text-align: right;\n",
              "    }\n",
              "</style>\n",
              "<table border=\"1\" class=\"dataframe\">\n",
              "  <thead>\n",
              "    <tr style=\"text-align: right;\">\n",
              "      <th></th>\n",
              "      <th>CRIM</th>\n",
              "      <th>ZN</th>\n",
              "      <th>INDUS</th>\n",
              "      <th>CHAS</th>\n",
              "      <th>NOX</th>\n",
              "      <th>RM</th>\n",
              "      <th>AGE</th>\n",
              "      <th>DIS</th>\n",
              "      <th>RAD</th>\n",
              "      <th>TAX</th>\n",
              "      <th>PTRATIO</th>\n",
              "      <th>B</th>\n",
              "      <th>LSTAT</th>\n",
              "      <th>MEDV</th>\n",
              "    </tr>\n",
              "  </thead>\n",
              "  <tbody>\n",
              "    <tr>\n",
              "      <th>281</th>\n",
              "      <td>0.03705</td>\n",
              "      <td>20.0</td>\n",
              "      <td>3.33</td>\n",
              "      <td>0.0</td>\n",
              "      <td>0.4429</td>\n",
              "      <td>6.2085</td>\n",
              "      <td>37.2</td>\n",
              "      <td>5.2447</td>\n",
              "      <td>5.0</td>\n",
              "      <td>216.0</td>\n",
              "      <td>14.9</td>\n",
              "      <td>392.23</td>\n",
              "      <td>4.59</td>\n",
              "      <td>35.4</td>\n",
              "    </tr>\n",
              "    <tr>\n",
              "      <th>273</th>\n",
              "      <td>0.22188</td>\n",
              "      <td>20.0</td>\n",
              "      <td>6.96</td>\n",
              "      <td>1.0</td>\n",
              "      <td>0.4640</td>\n",
              "      <td>6.2085</td>\n",
              "      <td>51.8</td>\n",
              "      <td>4.3665</td>\n",
              "      <td>3.0</td>\n",
              "      <td>223.0</td>\n",
              "      <td>18.6</td>\n",
              "      <td>390.77</td>\n",
              "      <td>6.58</td>\n",
              "      <td>35.2</td>\n",
              "    </tr>\n",
              "    <tr>\n",
              "      <th>251</th>\n",
              "      <td>0.21409</td>\n",
              "      <td>22.0</td>\n",
              "      <td>5.86</td>\n",
              "      <td>0.0</td>\n",
              "      <td>0.4310</td>\n",
              "      <td>6.2085</td>\n",
              "      <td>8.9</td>\n",
              "      <td>7.3967</td>\n",
              "      <td>7.0</td>\n",
              "      <td>330.0</td>\n",
              "      <td>19.1</td>\n",
              "      <td>377.07</td>\n",
              "      <td>3.59</td>\n",
              "      <td>24.8</td>\n",
              "    </tr>\n",
              "    <tr>\n",
              "      <th>329</th>\n",
              "      <td>0.06724</td>\n",
              "      <td>0.0</td>\n",
              "      <td>3.24</td>\n",
              "      <td>0.0</td>\n",
              "      <td>0.4600</td>\n",
              "      <td>6.2085</td>\n",
              "      <td>17.2</td>\n",
              "      <td>5.2146</td>\n",
              "      <td>4.0</td>\n",
              "      <td>430.0</td>\n",
              "      <td>16.9</td>\n",
              "      <td>375.21</td>\n",
              "      <td>7.34</td>\n",
              "      <td>22.6</td>\n",
              "    </tr>\n",
              "    <tr>\n",
              "      <th>40</th>\n",
              "      <td>0.03359</td>\n",
              "      <td>75.0</td>\n",
              "      <td>2.95</td>\n",
              "      <td>0.0</td>\n",
              "      <td>0.4280</td>\n",
              "      <td>6.2085</td>\n",
              "      <td>15.8</td>\n",
              "      <td>5.4011</td>\n",
              "      <td>3.0</td>\n",
              "      <td>252.0</td>\n",
              "      <td>18.3</td>\n",
              "      <td>395.62</td>\n",
              "      <td>1.98</td>\n",
              "      <td>34.9</td>\n",
              "    </tr>\n",
              "  </tbody>\n",
              "</table>\n",
              "</div>"
            ],
            "text/plain": [
              "        CRIM    ZN  INDUS  CHAS     NOX  ...    TAX  PTRATIO       B  LSTAT  MEDV\n",
              "281  0.03705  20.0   3.33   0.0  0.4429  ...  216.0     14.9  392.23   4.59  35.4\n",
              "273  0.22188  20.0   6.96   1.0  0.4640  ...  223.0     18.6  390.77   6.58  35.2\n",
              "251  0.21409  22.0   5.86   0.0  0.4310  ...  330.0     19.1  377.07   3.59  24.8\n",
              "329  0.06724   0.0   3.24   0.0  0.4600  ...  430.0     16.9  375.21   7.34  22.6\n",
              "40   0.03359  75.0   2.95   0.0  0.4280  ...  252.0     18.3  395.62   1.98  34.9\n",
              "\n",
              "[5 rows x 14 columns]"
            ]
          },
          "metadata": {
            "tags": []
          },
          "execution_count": 93
        }
      ]
    },
    {
      "cell_type": "markdown",
      "metadata": {
        "id": "bBGsX8VqWPn_",
        "colab_type": "text"
      },
      "source": [
        "**Rejoin the imputed and original datasets**"
      ]
    },
    {
      "cell_type": "code",
      "metadata": {
        "id": "kWhGf1b8WPn_",
        "colab_type": "code",
        "outputId": "6d7a828b-e433-44df-e209-dc0d95644349",
        "colab": {
          "base_uri": "https://localhost:8080/",
          "height": 204
        }
      },
      "source": [
        "imputed_data = pd.concat([in_sample, out_sample])\n",
        "imputed_data = imputed_data.sort_index()\n",
        "imputed_data.head()"
      ],
      "execution_count": 94,
      "outputs": [
        {
          "output_type": "execute_result",
          "data": {
            "text/html": [
              "<div>\n",
              "<style scoped>\n",
              "    .dataframe tbody tr th:only-of-type {\n",
              "        vertical-align: middle;\n",
              "    }\n",
              "\n",
              "    .dataframe tbody tr th {\n",
              "        vertical-align: top;\n",
              "    }\n",
              "\n",
              "    .dataframe thead th {\n",
              "        text-align: right;\n",
              "    }\n",
              "</style>\n",
              "<table border=\"1\" class=\"dataframe\">\n",
              "  <thead>\n",
              "    <tr style=\"text-align: right;\">\n",
              "      <th></th>\n",
              "      <th>CRIM</th>\n",
              "      <th>ZN</th>\n",
              "      <th>INDUS</th>\n",
              "      <th>CHAS</th>\n",
              "      <th>NOX</th>\n",
              "      <th>RM</th>\n",
              "      <th>AGE</th>\n",
              "      <th>DIS</th>\n",
              "      <th>RAD</th>\n",
              "      <th>TAX</th>\n",
              "      <th>PTRATIO</th>\n",
              "      <th>B</th>\n",
              "      <th>LSTAT</th>\n",
              "      <th>MEDV</th>\n",
              "    </tr>\n",
              "  </thead>\n",
              "  <tbody>\n",
              "    <tr>\n",
              "      <th>0</th>\n",
              "      <td>0.00632</td>\n",
              "      <td>18.0</td>\n",
              "      <td>2.31</td>\n",
              "      <td>0.0</td>\n",
              "      <td>0.538</td>\n",
              "      <td>6.5750</td>\n",
              "      <td>65.2</td>\n",
              "      <td>4.0900</td>\n",
              "      <td>1.0</td>\n",
              "      <td>296.0</td>\n",
              "      <td>15.3</td>\n",
              "      <td>396.90</td>\n",
              "      <td>4.98</td>\n",
              "      <td>24.0</td>\n",
              "    </tr>\n",
              "    <tr>\n",
              "      <th>1</th>\n",
              "      <td>0.02731</td>\n",
              "      <td>0.0</td>\n",
              "      <td>7.07</td>\n",
              "      <td>0.0</td>\n",
              "      <td>0.469</td>\n",
              "      <td>6.4210</td>\n",
              "      <td>78.9</td>\n",
              "      <td>4.9671</td>\n",
              "      <td>2.0</td>\n",
              "      <td>242.0</td>\n",
              "      <td>17.8</td>\n",
              "      <td>396.90</td>\n",
              "      <td>9.14</td>\n",
              "      <td>21.6</td>\n",
              "    </tr>\n",
              "    <tr>\n",
              "      <th>2</th>\n",
              "      <td>0.02729</td>\n",
              "      <td>0.0</td>\n",
              "      <td>7.07</td>\n",
              "      <td>0.0</td>\n",
              "      <td>0.469</td>\n",
              "      <td>6.2085</td>\n",
              "      <td>61.1</td>\n",
              "      <td>4.9671</td>\n",
              "      <td>2.0</td>\n",
              "      <td>242.0</td>\n",
              "      <td>17.8</td>\n",
              "      <td>392.83</td>\n",
              "      <td>4.03</td>\n",
              "      <td>34.7</td>\n",
              "    </tr>\n",
              "    <tr>\n",
              "      <th>3</th>\n",
              "      <td>0.03237</td>\n",
              "      <td>0.0</td>\n",
              "      <td>2.18</td>\n",
              "      <td>0.0</td>\n",
              "      <td>0.458</td>\n",
              "      <td>6.2085</td>\n",
              "      <td>45.8</td>\n",
              "      <td>6.0622</td>\n",
              "      <td>3.0</td>\n",
              "      <td>222.0</td>\n",
              "      <td>18.7</td>\n",
              "      <td>394.63</td>\n",
              "      <td>2.94</td>\n",
              "      <td>33.4</td>\n",
              "    </tr>\n",
              "    <tr>\n",
              "      <th>4</th>\n",
              "      <td>0.06905</td>\n",
              "      <td>0.0</td>\n",
              "      <td>2.18</td>\n",
              "      <td>0.0</td>\n",
              "      <td>0.458</td>\n",
              "      <td>7.1470</td>\n",
              "      <td>54.2</td>\n",
              "      <td>6.0622</td>\n",
              "      <td>3.0</td>\n",
              "      <td>222.0</td>\n",
              "      <td>18.7</td>\n",
              "      <td>396.90</td>\n",
              "      <td>5.33</td>\n",
              "      <td>36.2</td>\n",
              "    </tr>\n",
              "  </tbody>\n",
              "</table>\n",
              "</div>"
            ],
            "text/plain": [
              "      CRIM    ZN  INDUS  CHAS    NOX  ...    TAX  PTRATIO       B  LSTAT  MEDV\n",
              "0  0.00632  18.0   2.31   0.0  0.538  ...  296.0     15.3  396.90   4.98  24.0\n",
              "1  0.02731   0.0   7.07   0.0  0.469  ...  242.0     17.8  396.90   9.14  21.6\n",
              "2  0.02729   0.0   7.07   0.0  0.469  ...  242.0     17.8  392.83   4.03  34.7\n",
              "3  0.03237   0.0   2.18   0.0  0.458  ...  222.0     18.7  394.63   2.94  33.4\n",
              "4  0.06905   0.0   2.18   0.0  0.458  ...  222.0     18.7  396.90   5.33  36.2\n",
              "\n",
              "[5 rows x 14 columns]"
            ]
          },
          "metadata": {
            "tags": []
          },
          "execution_count": 94
        }
      ]
    },
    {
      "cell_type": "markdown",
      "metadata": {
        "id": "9n7_Uq9sWPoC",
        "colab_type": "text"
      },
      "source": [
        "**Use the same training and testing indices to fit the model**"
      ]
    },
    {
      "cell_type": "code",
      "metadata": {
        "id": "6tGgmz1qWPoD",
        "colab_type": "code",
        "outputId": "3d204435-a1fd-416c-9ed7-a0a2cb0418fd",
        "colab": {
          "base_uri": "https://localhost:8080/",
          "height": 204
        }
      },
      "source": [
        "train_set = imputed_data.iloc[train_index]\n",
        "test_set = imputed_data.iloc[test_index]\n",
        "train_set.head()"
      ],
      "execution_count": 95,
      "outputs": [
        {
          "output_type": "execute_result",
          "data": {
            "text/html": [
              "<div>\n",
              "<style scoped>\n",
              "    .dataframe tbody tr th:only-of-type {\n",
              "        vertical-align: middle;\n",
              "    }\n",
              "\n",
              "    .dataframe tbody tr th {\n",
              "        vertical-align: top;\n",
              "    }\n",
              "\n",
              "    .dataframe thead th {\n",
              "        text-align: right;\n",
              "    }\n",
              "</style>\n",
              "<table border=\"1\" class=\"dataframe\">\n",
              "  <thead>\n",
              "    <tr style=\"text-align: right;\">\n",
              "      <th></th>\n",
              "      <th>CRIM</th>\n",
              "      <th>ZN</th>\n",
              "      <th>INDUS</th>\n",
              "      <th>CHAS</th>\n",
              "      <th>NOX</th>\n",
              "      <th>RM</th>\n",
              "      <th>AGE</th>\n",
              "      <th>DIS</th>\n",
              "      <th>RAD</th>\n",
              "      <th>TAX</th>\n",
              "      <th>PTRATIO</th>\n",
              "      <th>B</th>\n",
              "      <th>LSTAT</th>\n",
              "      <th>MEDV</th>\n",
              "    </tr>\n",
              "  </thead>\n",
              "  <tbody>\n",
              "    <tr>\n",
              "      <th>198</th>\n",
              "      <td>0.03768</td>\n",
              "      <td>80.0</td>\n",
              "      <td>1.52</td>\n",
              "      <td>0.0</td>\n",
              "      <td>0.404</td>\n",
              "      <td>7.274</td>\n",
              "      <td>38.3</td>\n",
              "      <td>7.3090</td>\n",
              "      <td>2.0</td>\n",
              "      <td>329.0</td>\n",
              "      <td>12.6</td>\n",
              "      <td>392.20</td>\n",
              "      <td>6.62</td>\n",
              "      <td>34.6</td>\n",
              "    </tr>\n",
              "    <tr>\n",
              "      <th>229</th>\n",
              "      <td>0.44178</td>\n",
              "      <td>0.0</td>\n",
              "      <td>6.20</td>\n",
              "      <td>0.0</td>\n",
              "      <td>0.504</td>\n",
              "      <td>6.552</td>\n",
              "      <td>21.4</td>\n",
              "      <td>3.3751</td>\n",
              "      <td>8.0</td>\n",
              "      <td>307.0</td>\n",
              "      <td>17.4</td>\n",
              "      <td>380.34</td>\n",
              "      <td>3.76</td>\n",
              "      <td>31.5</td>\n",
              "    </tr>\n",
              "    <tr>\n",
              "      <th>502</th>\n",
              "      <td>0.04527</td>\n",
              "      <td>0.0</td>\n",
              "      <td>11.93</td>\n",
              "      <td>0.0</td>\n",
              "      <td>0.573</td>\n",
              "      <td>6.120</td>\n",
              "      <td>76.7</td>\n",
              "      <td>2.2875</td>\n",
              "      <td>1.0</td>\n",
              "      <td>273.0</td>\n",
              "      <td>21.0</td>\n",
              "      <td>396.90</td>\n",
              "      <td>9.08</td>\n",
              "      <td>20.6</td>\n",
              "    </tr>\n",
              "    <tr>\n",
              "      <th>31</th>\n",
              "      <td>1.35472</td>\n",
              "      <td>0.0</td>\n",
              "      <td>8.14</td>\n",
              "      <td>0.0</td>\n",
              "      <td>0.538</td>\n",
              "      <td>6.072</td>\n",
              "      <td>100.0</td>\n",
              "      <td>4.1750</td>\n",
              "      <td>4.0</td>\n",
              "      <td>307.0</td>\n",
              "      <td>21.0</td>\n",
              "      <td>376.73</td>\n",
              "      <td>13.04</td>\n",
              "      <td>14.5</td>\n",
              "    </tr>\n",
              "    <tr>\n",
              "      <th>315</th>\n",
              "      <td>0.25356</td>\n",
              "      <td>0.0</td>\n",
              "      <td>9.90</td>\n",
              "      <td>0.0</td>\n",
              "      <td>0.544</td>\n",
              "      <td>5.705</td>\n",
              "      <td>77.7</td>\n",
              "      <td>3.9450</td>\n",
              "      <td>4.0</td>\n",
              "      <td>304.0</td>\n",
              "      <td>18.4</td>\n",
              "      <td>396.42</td>\n",
              "      <td>11.50</td>\n",
              "      <td>16.2</td>\n",
              "    </tr>\n",
              "  </tbody>\n",
              "</table>\n",
              "</div>"
            ],
            "text/plain": [
              "        CRIM    ZN  INDUS  CHAS    NOX  ...    TAX  PTRATIO       B  LSTAT  MEDV\n",
              "198  0.03768  80.0   1.52   0.0  0.404  ...  329.0     12.6  392.20   6.62  34.6\n",
              "229  0.44178   0.0   6.20   0.0  0.504  ...  307.0     17.4  380.34   3.76  31.5\n",
              "502  0.04527   0.0  11.93   0.0  0.573  ...  273.0     21.0  396.90   9.08  20.6\n",
              "31   1.35472   0.0   8.14   0.0  0.538  ...  307.0     21.0  376.73  13.04  14.5\n",
              "315  0.25356   0.0   9.90   0.0  0.544  ...  304.0     18.4  396.42  11.50  16.2\n",
              "\n",
              "[5 rows x 14 columns]"
            ]
          },
          "metadata": {
            "tags": []
          },
          "execution_count": 95
        }
      ]
    },
    {
      "cell_type": "code",
      "metadata": {
        "id": "xaoPlq1ZWPoG",
        "colab_type": "code",
        "colab": {}
      },
      "source": [
        "X_train = train_set.iloc[:, :-1].values\n",
        "Y_train = train_set.iloc[:, -1].values\n",
        "X_test = test_set.iloc[:, :-1].values\n",
        "Y_test = test_set.iloc[:, -1].values"
      ],
      "execution_count": 0,
      "outputs": []
    },
    {
      "cell_type": "markdown",
      "metadata": {
        "id": "6NMKKCdJWPoJ",
        "colab_type": "text"
      },
      "source": [
        "**Fit a new model to the imputed dataset**"
      ]
    },
    {
      "cell_type": "code",
      "metadata": {
        "id": "r_GlseyZWPoK",
        "colab_type": "code",
        "outputId": "dc1934c0-2074-48b5-8eba-18bfa723509d",
        "colab": {
          "base_uri": "https://localhost:8080/",
          "height": 136
        }
      },
      "source": [
        "reg2 = LinearRegression().fit(X_train, Y_train)\n",
        "print(reg2.score(X_train, Y_train))\n",
        "print(reg2.coef_)\n",
        "print(reg2.intercept_)\n",
        "print(reg2.get_params())"
      ],
      "execution_count": 97,
      "outputs": [
        {
          "output_type": "stream",
          "text": [
            "0.7342584385725508\n",
            "[-1.43461121e-01  6.37668265e-02  3.34890184e-02  3.22508130e+00\n",
            " -2.19738118e+01  3.43434336e+00  2.59099929e-02 -1.57129188e+00\n",
            "  3.13212423e-01 -9.49237900e-03 -9.78316140e-01  4.61748422e-03\n",
            " -6.93071864e-01]\n",
            "42.59859535268602\n",
            "{'copy_X': True, 'fit_intercept': True, 'n_jobs': None, 'normalize': False}\n"
          ],
          "name": "stdout"
        }
      ]
    },
    {
      "cell_type": "code",
      "metadata": {
        "id": "00lEoY8zWPoP",
        "colab_type": "code",
        "outputId": "bf166ba0-3c3e-4f11-803d-50e44ae75eca",
        "colab": {
          "base_uri": "https://localhost:8080/",
          "height": 85
        }
      },
      "source": [
        "Y_pred = reg2.predict(X_test)\n",
        "\n",
        "mae = mean_absolute_error(Y_test,Y_pred)\n",
        "mse = mean_squared_error(Y_test,Y_pred)\n",
        "rmse_val = rmse(Y_test,Y_pred)\n",
        "r2 = r2_score(Y_test,Y_pred)\n",
        "print(\"MAE: %.3f\"%mae)\n",
        "print(\"MSE:  %.3f\"%mse)\n",
        "print(\"RMSE:  %.3f\"%rmse_val)\n",
        "print(\"R2:  %.3f\"%r2)"
      ],
      "execution_count": 98,
      "outputs": [
        {
          "output_type": "stream",
          "text": [
            "MAE: 3.720\n",
            "MSE:  25.988\n",
            "RMSE:  5.098\n",
            "R2:  0.682\n"
          ],
          "name": "stdout"
        }
      ]
    },
    {
      "cell_type": "code",
      "metadata": {
        "id": "jrghHWAYWPoT",
        "colab_type": "code",
        "colab": {}
      },
      "source": [
        "temp_frame = pd.DataFrame({'data':'30% imputed',\n",
        "                   'imputation':'MAR',\n",
        "                   'mae': mae, \n",
        "                   'mse': mse, \n",
        "                   'rmse':rmse_val,\n",
        "                   'R2':r2,\n",
        "                   'mae_diff':mae-orig_mae,\n",
        "                   'mse_diff':mse-orig_mse,\n",
        "                   'rmse_diff':rmse_val-orig_rmse_val,\n",
        "                   'R2_diff':r2-orig_r2\n",
        "                   }, index=[0])"
      ],
      "execution_count": 0,
      "outputs": []
    },
    {
      "cell_type": "code",
      "metadata": {
        "id": "va4XBpVoWPoW",
        "colab_type": "code",
        "outputId": "68013895-ce5e-4c15-fd40-bbfdf78bc55e",
        "colab": {
          "base_uri": "https://localhost:8080/",
          "height": 111
        }
      },
      "source": [
        "res_frame = pd.concat([res_frame, temp_frame])\n",
        "res_frame"
      ],
      "execution_count": 100,
      "outputs": [
        {
          "output_type": "execute_result",
          "data": {
            "text/html": [
              "<div>\n",
              "<style scoped>\n",
              "    .dataframe tbody tr th:only-of-type {\n",
              "        vertical-align: middle;\n",
              "    }\n",
              "\n",
              "    .dataframe tbody tr th {\n",
              "        vertical-align: top;\n",
              "    }\n",
              "\n",
              "    .dataframe thead th {\n",
              "        text-align: right;\n",
              "    }\n",
              "</style>\n",
              "<table border=\"1\" class=\"dataframe\">\n",
              "  <thead>\n",
              "    <tr style=\"text-align: right;\">\n",
              "      <th></th>\n",
              "      <th>data</th>\n",
              "      <th>imputation</th>\n",
              "      <th>mae</th>\n",
              "      <th>mse</th>\n",
              "      <th>rmse</th>\n",
              "      <th>R2</th>\n",
              "      <th>mae_diff</th>\n",
              "      <th>mse_diff</th>\n",
              "      <th>rmse_diff</th>\n",
              "      <th>R2_diff</th>\n",
              "    </tr>\n",
              "  </thead>\n",
              "  <tbody>\n",
              "    <tr>\n",
              "      <th>0</th>\n",
              "      <td>original</td>\n",
              "      <td>none</td>\n",
              "      <td>3.604571</td>\n",
              "      <td>24.098505</td>\n",
              "      <td>4.909023</td>\n",
              "      <td>0.70494</td>\n",
              "      <td>NaN</td>\n",
              "      <td>NaN</td>\n",
              "      <td>NaN</td>\n",
              "      <td>NaN</td>\n",
              "    </tr>\n",
              "    <tr>\n",
              "      <th>0</th>\n",
              "      <td>30% imputed</td>\n",
              "      <td>MAR</td>\n",
              "      <td>3.720447</td>\n",
              "      <td>25.987578</td>\n",
              "      <td>5.097801</td>\n",
              "      <td>0.68181</td>\n",
              "      <td>0.115876</td>\n",
              "      <td>1.889073</td>\n",
              "      <td>0.188778</td>\n",
              "      <td>-0.02313</td>\n",
              "    </tr>\n",
              "  </tbody>\n",
              "</table>\n",
              "</div>"
            ],
            "text/plain": [
              "          data imputation       mae  ...  mse_diff  rmse_diff  R2_diff\n",
              "0     original       none  3.604571  ...       NaN        NaN      NaN\n",
              "0  30% imputed        MAR  3.720447  ...  1.889073   0.188778 -0.02313\n",
              "\n",
              "[2 rows x 10 columns]"
            ]
          },
          "metadata": {
            "tags": []
          },
          "execution_count": 100
        }
      ]
    },
    {
      "cell_type": "code",
      "metadata": {
        "id": "vHRPHkHoWPoY",
        "colab_type": "code",
        "colab": {}
      },
      "source": [
        ""
      ],
      "execution_count": 0,
      "outputs": []
    }
  ]
}